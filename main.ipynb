{
  "nbformat": 4,
  "nbformat_minor": 0,
  "metadata": {
    "colab": {
      "provenance": [],
      "authorship_tag": "ABX9TyPI1GSGiekygbOe1P6BZlrm",
      "include_colab_link": true
    },
    "kernelspec": {
      "name": "python3",
      "display_name": "Python 3"
    },
    "language_info": {
      "name": "python"
    }
  },
  "cells": [
    {
      "cell_type": "markdown",
      "metadata": {
        "id": "view-in-github",
        "colab_type": "text"
      },
      "source": [
        "<a href=\"https://colab.research.google.com/github/AndyH96/dense_nn/blob/main/main.ipynb\" target=\"_parent\"><img src=\"https://colab.research.google.com/assets/colab-badge.svg\" alt=\"Open In Colab\"/></a>"
      ]
    },
    {
      "cell_type": "markdown",
      "source": [
        "**CSCK506 Mid-Module Assignment:**\n",
        "\n",
        "**Table of Contents**\n",
        "1. Introduction\n",
        "\n"
      ],
      "metadata": {
        "id": "_44DSmpJ1fFS"
      }
    },
    {
      "cell_type": "markdown",
      "source": [
        "***Importing Dependencies***"
      ],
      "metadata": {
        "id": "gmr72PlB1-7H"
      }
    },
    {
      "cell_type": "code",
      "source": [],
      "metadata": {
        "id": "Z3okHfCv1-Wk"
      },
      "execution_count": null,
      "outputs": []
    },
    {
      "cell_type": "markdown",
      "source": [
        "Download Fashion MNIST Dataset\n",
        "\n",
        "The Corpus can be downloaded here: WikiQACorpus"
      ],
      "metadata": {
        "id": "0_Bb54LM2_2B"
      }
    },
    {
      "cell_type": "code",
      "source": [
        "logging.basicConfig(level=logging.INFO)\n",
        "logger = logging.getLogger(__name__)"
      ],
      "metadata": {
        "id": "1nOBji3L3OSs"
      },
      "execution_count": null,
      "outputs": []
    },
    {
      "cell_type": "code",
      "source": [
        "def download_file(url, destination):\n",
        "    try:\n",
        "        urllib.request.urlretrieve(url, destination)\n",
        "        logger.info(f'Downloaded file from {url} to {destination}')\n",
        "    except Exception as e:\n",
        "        logger.error(f'Error downloading file: {e}')\n",
        "\n",
        "def extract_zip(zip_path, extract_path):\n",
        "    try:\n",
        "        with ZipFile(zip_path, 'r') as zip_ref:\n",
        "            zip_ref.extractall(extract_path)\n",
        "        logger.info(f'Extracted {zip_path} to {extract_path}')\n",
        "    except Exception as e:\n",
        "        logger.error(f'Error extracting zip file: {e}')\n",
        "\n",
        "def create_directory(directory):\n",
        "    if not os.path.exists(directory):\n",
        "        os.makedirs(directory)\n",
        "        logger.info(f'Created directory: {directory}')\n",
        "\n",
        "CORPUS_NAME = 'WikiQACorpus'\n",
        "CORPUS_URL = 'https://www.microsoft.com/en-us/download/confirmation.aspx?id=52419'\n",
        "CORPUS_DIR = os.path.join(CORPUS_NAME)\n",
        "DATASET_ZIP = os.path.join(CORPUS_DIR, 'WikiQACorpus.zip')\n",
        "\n",
        "# Check if dataset directory already exists\n",
        "if os.path.exists(CORPUS_DIR):\n",
        "    print(f'{CORPUS_NAME} already exists')\n",
        "else:\n",
        "    if os.path.exists(DATASET_ZIP):\n",
        "        create_directory(CORPUS_DIR)\n",
        "        extract_zip(DATASET_ZIP, CORPUS_DIR)\n",
        "        os.remove(DATASET_ZIP)\n",
        "        print(f'{CORPUS_NAME} extracted')\n",
        "    else:\n",
        "        print(f'To obtain the \"{CORPUS_NAME}\" dataset, please follow these steps:')\n",
        "        print(f'1. Manually download the WikiQA dataset from: {CORPUS_URL}')\n",
        "        print(f'2. Place the downloaded \"WikiQACorpus.zip\" file in the \"{CORPUS_DIR}\" folder.')\n",
        "        print(f'3. Rerun this script after placing the corpus in the correct location.')"
      ],
      "metadata": {
        "id": "comkOU_W3Htg"
      },
      "execution_count": null,
      "outputs": []
    }
  ]
}