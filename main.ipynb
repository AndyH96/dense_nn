{
  "nbformat": 4,
  "nbformat_minor": 0,
  "metadata": {
    "colab": {
      "provenance": [],
      "authorship_tag": "ABX9TyMOu6EhHZOTYQb4LCgZ/gpn",
      "include_colab_link": true
    },
    "kernelspec": {
      "name": "python3",
      "display_name": "Python 3"
    },
    "language_info": {
      "name": "python"
    }
  },
  "cells": [
    {
      "cell_type": "markdown",
      "metadata": {
        "id": "view-in-github",
        "colab_type": "text"
      },
      "source": [
        "<a href=\"https://colab.research.google.com/github/AndyH96/dense_nn/blob/main/main.ipynb\" target=\"_parent\"><img src=\"https://colab.research.google.com/assets/colab-badge.svg\" alt=\"Open In Colab\"/></a>"
      ]
    },
    {
      "cell_type": "markdown",
      "source": [
        "**CSCK506 Mid-Module Assignment:**\n",
        "\n",
        "**Table of Contents**\n",
        "1. Introduction\n",
        "\n"
      ],
      "metadata": {
        "id": "_44DSmpJ1fFS"
      }
    },
    {
      "cell_type": "markdown",
      "source": [
        "***Importing Dependencies***"
      ],
      "metadata": {
        "id": "gmr72PlB1-7H"
      }
    },
    {
      "cell_type": "code",
      "source": [
        "import requests\n",
        "import zipfile\n",
        "import io\n",
        "import os\n",
        "import logging\n",
        "\n",
        "import tensorflow as tf\n",
        "from tensorflow import keras"
      ],
      "metadata": {
        "id": "Z3okHfCv1-Wk"
      },
      "execution_count": 19,
      "outputs": []
    },
    {
      "cell_type": "markdown",
      "source": [
        "Download Fashion MNIST Dataset\n",
        "\n",
        "To obtain the direct download link for the Fashion MNIST dataset, you can follow these steps:\n",
        "\n",
        "Visit the Kaggle dataset page: https://www.kaggle.com/zalando-research/fashionmnist\n",
        "\n",
        "Click on the \"Download\" button on the right-hand side of the page.\n",
        "This will prompt you to sign in to Kaggle (or create an account if you don't have one).\n",
        "\n",
        "After signing in, the download should start automatically, or you might be redirected to another page with a direct download link. If you're redirected, you can copy the URL from your browser's address bar."
      ],
      "metadata": {
        "id": "0_Bb54LM2_2B"
      }
    },
    {
      "cell_type": "code",
      "source": [],
      "metadata": {
        "id": "KKzW1nonIU6G"
      },
      "execution_count": null,
      "outputs": []
    }
  ]
}